{
 "cells": [
  {
   "cell_type": "code",
   "execution_count": 34,
   "metadata": {},
   "outputs": [
    {
     "name": "stdout",
     "output_type": "stream",
     "text": [
      "1 2 2 3 1 4\n"
     ]
    }
   ],
   "source": [
    "#zadanie 1\n",
    "input = []\n",
    "with open(\"in.txt\", \"r\") as input_file:   \n",
    "    for line in input_file:\n",
    "        input.append(line)\n",
    "        print(line)\n",
    "    del input_file\n",
    "with open(\"out.txt\", \"w\") as output_file:\n",
    "    output_file.write(' '.join(set(' '.join(input))))\n",
    "    del output_file"
   ]
  },
  {
   "cell_type": "code",
   "execution_count": 60,
   "metadata": {},
   "outputs": [
    {
     "name": "stdout",
     "output_type": "stream",
     "text": [
      "160.0\n"
     ]
    }
   ],
   "source": [
    "#zadanie 2\n",
    "def calculate_mean_candy_count(operations, number_of_jars):\n",
    "    jars = [0] * number_of_jars\n",
    "    for i in operations:\n",
    "        for j in range(i[0], i[1]+1):\n",
    "            jars[j-1] += i[2]\n",
    "    return sum(jars) / number_of_jars\n",
    "    \n",
    "l = [(1, 2, 100), (2, 5, 100), (3, 4, 100)]\n",
    "n = 5\n",
    "\n",
    "print(calculate_mean_candy_count(l,n))"
   ]
  },
  {
   "cell_type": "code",
   "execution_count": 40,
   "metadata": {},
   "outputs": [
    {
     "name": "stdout",
     "output_type": "stream",
     "text": [
      "[('a', 1), ('c', 1), ('e', 1), ('f', 1), ('g', 1), ('i', 2), ('m', 1), ('n', 2), ('t', 1)]\n"
     ]
    }
   ],
   "source": [
    "#zadanie 3\n",
    "def count_occurencies(word: str):\n",
    "    letters = set(word)\n",
    "    result = []\n",
    "    for letter in letters:\n",
    "        result.append((letter,word.count(letter)))\n",
    "    return sorted(result, key=lambda x: x[0])\n",
    "    \n",
    "count = count_occurencies(\"magnificent\")\n",
    "print(count)"
   ]
  },
  {
   "cell_type": "code",
   "execution_count": 46,
   "metadata": {},
   "outputs": [
    {
     "name": "stdout",
     "output_type": "stream",
     "text": [
      "2002, 2009, 2016, 2023, 2037, 2044, 2051, 2058, 2072, 2079, 2086, 2093, 2107, 2114, 2121, 2128, 2142, 2149, 2156, 2163, 2177, 2184, 2191, 2198, 2212, 2219, 2226, 2233, 2247, 2254, 2261, 2268, 2282, 2289, 2296, 2303, 2317, 2324, 2331, 2338, 2352, 2359, 2366, 2373, 2387, 2394, 2401, 2408, 2422, 2429, 2436, 2443, 2457, 2464, 2471, 2478, 2492, 2499, 2506, 2513, 2527, 2534, 2541, 2548, 2562, 2569, 2576, 2583, 2597, 2604, 2611, 2618, 2632, 2639, 2646, 2653, 2667, 2674, 2681, 2688, 2702, 2709, 2716, 2723, 2737, 2744, 2751, 2758, 2772, 2779, 2786, 2793, 2807, 2814, 2821, 2828, 2842, 2849, 2856, 2863, 2877, 2884, 2891, 2898, 2912, 2919, 2926, 2933, 2947, 2954, 2961, 2968, 2982, 2989, 2996, 3003, 3017, 3024, 3031, 3038, 3052, 3059, 3066, 3073, 3087, 3094, 3101, 3108, 3122, 3129, 3136, 3143, 3157, 3164, 3171, 3178, 3192, 3199\n"
     ]
    }
   ],
   "source": [
    "#zadanie 4\n",
    "def find_numbers(start: int, end: int):\n",
    "    result = []\n",
    "    for number in range(start, end+1):\n",
    "        if number % 7 is 0:\n",
    "            if number % 5 is not 0:\n",
    "                result.append(str(number))\n",
    "    return result\n",
    "\n",
    "numbers = find_numbers(2000, 3200)\n",
    "print(\", \".join(numbers))"
   ]
  },
  {
   "cell_type": "code",
   "execution_count": 71,
   "metadata": {},
   "outputs": [
    {
     "name": "stdout",
     "output_type": "stream",
     "text": [
      "True\n"
     ]
    }
   ],
   "source": [
    "#zadanie 5\n",
    "s = 'qwerty123!@$'\n",
    "vals = ['@','^','x']\n",
    "print(bool([l for l in s if any(val in l for val in vals)]))"
   ]
  },
  {
   "cell_type": "code",
   "execution_count": 72,
   "metadata": {},
   "outputs": [
    {
     "name": "stdout",
     "output_type": "stream",
     "text": [
      "[5, 3, 7, 1, 8, 1, 2, 5, 9]\n"
     ]
    }
   ],
   "source": [
    "#zadanie 6\n",
    "a = [[5, 3, 7], [1, 8, 1, 2], [5, 9]]\n",
    "flat_list = [x for sublist in a for x in sublist]\n",
    "print(flat_list)"
   ]
  },
  {
   "cell_type": "code",
   "execution_count": 61,
   "metadata": {},
   "outputs": [
    {
     "name": "stdout",
     "output_type": "stream",
     "text": [
      "67\n"
     ]
    }
   ],
   "source": [
    "#zadanie 7\n",
    "def maximum(*numbers):\n",
    "    return max(numbers)\n",
    "\n",
    "print(maximum(2,5,6,4,67,4,5,7,4))\n",
    "    "
   ]
  },
  {
   "cell_type": "code",
   "execution_count": 62,
   "metadata": {},
   "outputs": [
    {
     "name": "stdout",
     "output_type": "stream",
     "text": [
      "615\n"
     ]
    }
   ],
   "source": [
    "#zadanie 8\n",
    "def weird_sum(digit, count):\n",
    "    temp_str = str(digit)\n",
    "    result = digit\n",
    "    for i in range(1,count):\n",
    "        temp_str += str(digit)\n",
    "        result += int(temp_str)\n",
    "    return result\n",
    "\n",
    "print(weird_sum(5,3))"
   ]
  },
  {
   "cell_type": "code",
   "execution_count": null,
   "metadata": {},
   "outputs": [],
   "source": []
  }
 ],
 "metadata": {
  "kernelspec": {
   "display_name": "Python 3",
   "language": "python",
   "name": "python3"
  },
  "language_info": {
   "codemirror_mode": {
    "name": "ipython",
    "version": 3
   },
   "file_extension": ".py",
   "mimetype": "text/x-python",
   "name": "python",
   "nbconvert_exporter": "python",
   "pygments_lexer": "ipython3",
   "version": "3.6.5"
  },
  "varInspector": {
   "cols": {
    "lenName": 16,
    "lenType": 16,
    "lenVar": 40
   },
   "kernels_config": {
    "python": {
     "delete_cmd_postfix": "",
     "delete_cmd_prefix": "del ",
     "library": "var_list.py",
     "varRefreshCmd": "print(var_dic_list())"
    },
    "r": {
     "delete_cmd_postfix": ") ",
     "delete_cmd_prefix": "rm(",
     "library": "var_list.r",
     "varRefreshCmd": "cat(var_dic_list()) "
    }
   },
   "types_to_exclude": [
    "module",
    "function",
    "builtin_function_or_method",
    "instance",
    "_Feature"
   ],
   "window_display": false
  }
 },
 "nbformat": 4,
 "nbformat_minor": 2
}
